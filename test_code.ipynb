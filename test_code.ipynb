{
 "cells": [
  {
   "cell_type": "markdown",
   "metadata": {},
   "source": [
    "#### 궁금한거 찾는 함수"
   ]
  },
  {
   "cell_type": "code",
   "execution_count": 1,
   "metadata": {},
   "outputs": [
    {
     "data": {
      "text/plain": [
       "'\\nhelp(궁금한거)\\n패키지.__all__ : 패키지 내 어떤 함수 있는지 출력됨\\ndir(궁금한거) : 궁금한게 가지고 있는 변수와 메소드 출력됨\\n'"
      ]
     },
     "execution_count": 1,
     "metadata": {},
     "output_type": "execute_result"
    }
   ],
   "source": [
    "\"\"\"\n",
    "help() : 함수, 클래스, 메서드에 대해 파라미터, 리턴값, 예시 사용법 알려줌\n",
    "패키지.__all__ : 패키지 내 어떤 함수 있는지 출력됨\n",
    "dir()\n",
    "- 객체가 가지고 있는 변수와 메소드 출력됨\n",
    "- sklearn은 dir() 대신 __all__을 이용해야 하위모듈 확인 가능\n",
    "\"\"\""
   ]
  },
  {
   "cell_type": "markdown",
   "metadata": {},
   "source": [
    "### 데이터 분석 순서\n",
    "- 데이터 로딩\n",
    "- 데이터 분리\n",
    "- 결측치 데이터 확인\n",
    "- 범주형 변수 인코딩 \n",
    "    - LabelEncoding : LabelEncoder()\n",
    "    - OneHotEncoding : OneHotEncoder(), pd.get_dummies()\n",
    "- 스케일링\n",
    "- 검증데이터셋 생성\n",
    "- 학습"
   ]
  },
  {
   "cell_type": "markdown",
   "metadata": {},
   "source": []
  }
 ],
 "metadata": {
  "kernelspec": {
   "display_name": "Python 3.9.13 ('base')",
   "language": "python",
   "name": "python3"
  },
  "language_info": {
   "codemirror_mode": {
    "name": "ipython",
    "version": 3
   },
   "file_extension": ".py",
   "mimetype": "text/x-python",
   "name": "python",
   "nbconvert_exporter": "python",
   "pygments_lexer": "ipython3",
   "version": "3.9.13"
  },
  "orig_nbformat": 4,
  "vscode": {
   "interpreter": {
    "hash": "ad2bdc8ecc057115af97d19610ffacc2b4e99fae6737bb82f5d7fb13d2f2c186"
   }
  }
 },
 "nbformat": 4,
 "nbformat_minor": 2
}
